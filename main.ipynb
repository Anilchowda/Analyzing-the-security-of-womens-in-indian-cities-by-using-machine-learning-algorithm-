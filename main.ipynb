{
 "cells": [
  {
   "cell_type": "code",
   "execution_count": 1,
   "id": "7555259d",
   "metadata": {},
   "outputs": [],
   "source": [
    "import tkinter as tk\n",
    "from tkinter import filedialog\n",
    "from textblob import TextBlob\n",
    "from tkinter import *\n",
    "import matplotlib.pyplot as plt\n",
    "import numpy as np\n",
    "import pandas as pd\n",
    "from string import punctuation\n",
    "from nltk.corpus import stopwords\n"
   ]
  },
  {
   "cell_type": "code",
   "execution_count": 2,
   "id": "8bac19ad",
   "metadata": {},
   "outputs": [
    {
     "data": {
      "text/plain": [
       "''"
      ]
     },
     "execution_count": 2,
     "metadata": {},
     "output_type": "execute_result"
    }
   ],
   "source": [
    "main = tk.Tk()\n",
    "main.title(\"Analysis of Women Safety in Indian Cities Using Machine Learning on Tweets\") #designing main screen\n",
    "main.geometry(\"1300x1200\")\n",
    "# main.mainloop()"
   ]
  },
  {
   "cell_type": "code",
   "execution_count": 3,
   "id": "44b2277c",
   "metadata": {},
   "outputs": [],
   "source": [
    "global filename \n",
    "tweets_list = [] \n",
    "clean_list = []\n",
    "global pos, neu, neg"
   ]
  },
  {
   "cell_type": "code",
   "execution_count": 4,
   "id": "f0d83e34",
   "metadata": {},
   "outputs": [],
   "source": [
    "# def tweetCleaning(doc):\n",
    "#     tokens = doc.split()\n",
    "#     table = str.maketrans('', '', punctuation)\n",
    "#     tokens=[w.translate(table) for w in tokens]\n",
    "#     tokens = [word for word in tokens if word.isalpha()]\n",
    "#     stop_words = set(stopwords.words('english'))\n",
    "#     tokens =[w for w in tokens if not w in stop_words]\n",
    "#     tokens = [word for word in tokens if len(word) > 1]\n",
    "#     tokens = ' '.join(tokens) #here upto for word based\n",
    "#     return tokens"
   ]
  },
  {
   "cell_type": "code",
   "execution_count": 5,
   "id": "d3333e6d",
   "metadata": {},
   "outputs": [],
   "source": [
    "def tweetCleaning(doc):\n",
    "    # Tokenize the document\n",
    "    tokens = word_tokenize(doc.lower())\n",
    "    \n",
    "    # Remove punctuation\n",
    "    table = str.maketrans('', '', string.punctuation)\n",
    "    tokens = [w.translate(table) for w in tokens]\n",
    "    \n",
    "    # Remove non-alphabetic words\n",
    "    tokens = [word for word in tokens if word.isalpha()]\n",
    "    \n",
    "    # Remove stopwords\n",
    "    stop_words = set(stopwords.words('english'))\n",
    "    tokens = [w for w in tokens if not w in stop_words]\n",
    "    \n",
    "    # Remove short words\n",
    "    tokens = [word for word in tokens if len(word) > 1]\n",
    "    \n",
    "    # Join tokens back into a single string\n",
    "    cleaned_doc = ' '.join(tokens)\n",
    "    \n",
    "    return cleaned_doc"
   ]
  },
  {
   "cell_type": "code",
   "execution_count": 6,
   "id": "2894e21b",
   "metadata": {},
   "outputs": [],
   "source": [
    "def upload():\n",
    "    # Function to upload Twitter profile\n",
    "    filename = filedialog.askopenfilename(initialdir=\"dataset\", filetypes=((\"CSV files\", \"*csv\"),))\n",
    "    pathlabel.config(text=filename)\n",
    "    text.delete('1.0', tk.END)\n",
    "    text.insert(tk.END, filename + \" loaded\\n\")\n",
    "    \n",
    "    read(filename)\n",
    "    # Read the CSV file using pandas\n",
    "    try:\n",
    "        df = pd.read_csv(filename)\n",
    "        \n",
    "        # Process the data or perform analysis on the DataFrame df as needed\n",
    "#         df.head()\n",
    "    except pd.errors.EmptyDataError:\n",
    "        \n",
    "        text.insert(tk.END, \"Error: Empty CSV file\\n\")\n",
    "    except pd.errors.ParserError:\n",
    "        text.insert(tk.END, \"Error: Invalid CSV file\\n\")"
   ]
  },
  {
   "cell_type": "code",
   "execution_count": 7,
   "id": "d59a7ba1",
   "metadata": {},
   "outputs": [],
   "source": [
    "def read(filename):\n",
    "    text.delete('1.0', tk.END)\n",
    "    tweets_list.clear()\n",
    "    train = pd.read_csv(filename, encoding='iso-8859-1')\n",
    "    for i in range(len(train)):\n",
    "        tweet = train.loc[i, 'Text']\n",
    "        tweets_list.append(tweet)\n",
    "        text.insert(tk.END, tweet + \"\\n\")\n",
    "    text.insert(tk.END, \"\\n\\nTotal tweets found in dataset: \" + str(len(tweets_list)) + \"\\n\\n\\n\")\n"
   ]
  },
  {
   "cell_type": "code",
   "execution_count": 8,
   "id": "9b54088e",
   "metadata": {},
   "outputs": [],
   "source": [
    "def clean():\n",
    "    text.delete('1.0', END)\n",
    "    clean_list.clear()\n",
    "    for i in range(len(tweets_list)):\n",
    "        tweet = tweets_list[i]\n",
    "        tweet = tweet.strip(\"\\n\")\n",
    "        tweet = tweet.strip()\n",
    "        tweet = tweetCleaning(tweet.lower())\n",
    "    clean_list.append(tweet)\n",
    "    text.insert(END,tweet+\"\\n\")\n",
    "    text.insert(END,\"\\n\\nTotal tweets found in dataset is : \"+str(len(clean_list))+\"\\n\\n\\n\")"
   ]
  },
  {
   "cell_type": "code",
   "execution_count": 9,
   "id": "67f1d78d",
   "metadata": {},
   "outputs": [],
   "source": [
    "def machineLearning():\n",
    "    text.delete('1.0', tk.END)\n",
    "    global pos, neu, neg\n",
    "    pos = 0\n",
    "    neu = 0\n",
    "    neg = 0\n",
    "    for i in range(len(tweets_list)):\n",
    "        tweet = tweets_list[i]\n",
    "        blob = TextBlob(tweet)\n",
    "        if blob.polarity <= 0.2:\n",
    "            neg += 1\n",
    "            text.insert(tk.END, tweet + \"\\n\")\n",
    "            text.insert(tk.END, \"Predicted Sentiment: NEGATIVE\\n\")\n",
    "            text.insert(tk.END, \"Polarity Score: \" + str(blob.polarity) + \"\\n\")\n",
    "            text.insert(tk.END, '====================================================================================\\n')\n",
    "        elif blob.polarity > 0.2 and blob.polarity <= 0.5:\n",
    "            neu += 1\n",
    "            text.insert(tk.END, tweet + \"\\n\")\n",
    "            text.insert(tk.END, \"Predicted Sentiment: NEUTRAL\\n\")\n",
    "            text.insert(tk.END, \"Polarity Score: \" + str(blob.polarity) + \"\\n\")\n",
    "        elif blob.polarity > 0.5:\n",
    "            pos += 1\n",
    "            text.insert(tk.END, tweet + \"\\n\")\n",
    "            text.insert(tk.END, \"Predicted Sentiment: POSITIVE\\n\")\n",
    "            text.insert(tk.END, \"Polarity Score: \" + str(blob.polarity) + \"\\n\")\n",
    "            text.insert(tk.END, '====================================================================================\\n')\n"
   ]
  },
  {
   "cell_type": "code",
   "execution_count": 10,
   "id": "ea9cc296",
   "metadata": {},
   "outputs": [],
   "source": [
    "\n",
    "import matplotlib.pyplot as plt\n",
    "\n",
    "def graph():\n",
    "    label_X = []\n",
    "    category_X = []\n",
    "    text.delete('1.0', tk.END)\n",
    "    text.insert(tk.END, \"SafetyFactor\\n\\n\")\n",
    "    text.insert(tk.END, 'Positive: ' + str(pos) + \"\\n\")\n",
    "    text.insert(tk.END, 'Negative: ' + str(neg) + \"\\n\")\n",
    "    text.insert(tk.END, 'Neutral: ' + str(neu) + \"\\n\\n\")\n",
    "    text.insert(tk.END, 'Total No. of tweets: ' + str(len(tweets_list)) + \"\\n\")\n",
    "\n",
    "    if len(tweets_list) > 0:\n",
    "        text.insert(tk.END, 'Positive: ' + str(pos) + ' / ' + str(len(tweets_list)) + ' = ' + str(\"{:.2f}\".format(pos / len(tweets_list) * 100)) + '%\\n')\n",
    "        text.insert(tk.END, 'Negative: ' + str(neg) + ' / ' + str(len(tweets_list)) + ' = ' + str(\"{:.2f}\".format(neg / len(tweets_list) * 100)) + '%\\n')\n",
    "        text.insert(tk.END, 'Neutral: ' + str(neu) + ' / ' + str(len(tweets_list)) + ' = ' +  str(\"{:.2f}\".format(neu / len(tweets_list) * 100))  + '%\\n')\n",
    "    else:\n",
    "        text.insert(tk.END, 'No tweets found\\n')\n",
    "\n",
    "    label_X.append('Positive')\n",
    "    label_X.append('Negative')\n",
    "    label_X.append('Neutral')\n",
    "    category_X.append(pos)\n",
    "    category_X.append(neg)\n",
    "    category_X.append(neu)\n",
    "\n",
    "    plt.pie(category_X, labels=label_X, autopct='%1.1f%%')\n",
    "    plt.title('Women Safety & Sentiment Graph')\n",
    "    plt.axis('equal')\n",
    "    plt.show()\n"
   ]
  },
  {
   "cell_type": "code",
   "execution_count": 11,
   "id": "07abecde",
   "metadata": {},
   "outputs": [],
   "source": [
    "font = ('times', 16, 'bold')\n",
    "title = Label(main, text='Analysis of Women Safety in Indian Cities Using Machine Learning on Tweets')\n",
    "title.config(bg='brown', fg='white')\n",
    "title.config(font=font)\n",
    "title.config(height=3, width=120)\n",
    "title.place(x=0,y=5)\n",
    "\n",
    "font1 = ('times', 14, 'bold')\n",
    "uploadButton = Button(main, text=\"Upload Tweets Dataset\", command=upload)\n",
    "uploadButton.place(x=50,y=100)\n",
    "uploadButton.config(font=font1)\n",
    "\n",
    "pathlabel = Label(main)\n",
    "pathlabel.config(bg='brown', fg='white')\n",
    "pathlabel.config(font=font1)\n",
    "pathlabel.place(x=370,y=100)\n",
    "\n",
    "readButton = Button(main, text=\"Read Tweets\", command=read)\n",
    "readButton.place(x=50,y=150)\n",
    "readButton.config(font=font1)\n",
    "\n",
    "cleanButton = Button(main, text=\"Tweets Cleaning\", command=clean)\n",
    "cleanButton.place(x=210,y=150)\n",
    "cleanButton.config(font=font1)\n",
    "\n",
    "mlButton = Button(main, text=\"Run Machine Learning Algorithm\", command=machineLearning)\n",
    "mlButton.place(x=400,y=150)\n",
    "mlButton.config(font=font1)\n",
    "\n",
    "graphButton = Button(main, text=\"Women Saftey Graph\", command=graph)\n",
    "graphButton.place(x=730,y=150)\n",
    "graphButton.config(font=font1)\n",
    "\n",
    "font1 = ('times', 12, 'bold')\n",
    "text=Text(main,height=25,width=150)\n",
    "scroll=Scrollbar(text)\n",
    "text.configure(yscrollcommand=scroll.set)\n",
    "text.place(x=10,y=200)\n",
    "text.config(font=font1)\n",
    "pathlabel = Label(main)\n",
    "pathlabel.config(bg='brown', fg='white')\n",
    "pathlabel.config(font=font1)\n",
    "pathlabel.place(x=370,y=100)\n",
    "\n",
    "font1 = ('times', 12, 'bold')\n",
    "text=Text(main,height=25,width=150)\n",
    "scroll=Scrollbar(text)\n",
    "text.configure(yscrollcommand=scroll.set)\n",
    "text.place(x=10,y=200)\n",
    "text.config(font=font1)"
   ]
  },
  {
   "cell_type": "code",
   "execution_count": null,
   "id": "8996ef4e",
   "metadata": {},
   "outputs": [
    {
     "data": {
      "image/png": "[encoded data removed]",
      "text/plain": [
       "<Figure size 432x288 with 1 Axes>"
      ]
     },
     "metadata": {},
     "output_type": "display_data"
    }
   ],
   "source": [
    "main.mainloop()"
   ]
  },
  {
   "cell_type": "code",
   "execution_count": 13,
   "id": "0cac30dd",
   "metadata": {},
   "outputs": [
    {
     "data": {
      "text/html": [
       "<div>\n",
       "<style scoped>\n",
       "    .dataframe tbody tr th:only-of-type {\n",
       "        vertical-align: middle;\n",
       "    }\n",
       "\n",
       "    .dataframe tbody tr th {\n",
       "        vertical-align: top;\n",
       "    }\n",
       "\n",
       "    .dataframe thead th {\n",
       "        text-align: right;\n",
       "    }\n",
       "</style>\n",
       "<table border=\"1\" class=\"dataframe\">\n",
       "  <thead>\n",
       "    <tr style=\"text-align: right;\">\n",
       "      <th></th>\n",
       "      <th>Text</th>\n",
       "      <th>Id</th>\n",
       "      <th>Lenght</th>\n",
       "      <th>Created_at</th>\n",
       "      <th>Source</th>\n",
       "      <th>Favorite_count</th>\n",
       "      <th>Retweet_count</th>\n",
       "      <th>Lang</th>\n",
       "    </tr>\n",
       "  </thead>\n",
       "  <tbody>\n",
       "    <tr>\n",
       "      <th>0</th>\n",
       "      <td>@Rightsatbirth: \"What he did was manipulative...</td>\n",
       "      <td>1184600000000000000</td>\n",
       "      <td>140</td>\n",
       "      <td>2019-10-16 22:33:00</td>\n",
       "      <td>Twitter for Android</td>\n",
       "      <td>0</td>\n",
       "      <td>2</td>\n",
       "      <td>en</td>\n",
       "    </tr>\n",
       "    <tr>\n",
       "      <th>1</th>\n",
       "      <td>Happy 94th Birthday\\0\\x9f\\x8e\\x82 to @_AngelaL...</td>\n",
       "      <td>1184600000000000000</td>\n",
       "      <td>144</td>\n",
       "      <td>2019-10-16 22:33:00</td>\n",
       "      <td>Twitter for iPhone</td>\n",
       "      <td>0</td>\n",
       "      <td>0</td>\n",
       "      <td>en</td>\n",
       "    </tr>\n",
       "    <tr>\n",
       "      <th>2</th>\n",
       "      <td>@RepLoriTrahan: Two years ago #MeToo woke up ...</td>\n",
       "      <td>1184600000000000000</td>\n",
       "      <td>139</td>\n",
       "      <td>2019-10-16 22:33:00</td>\n",
       "      <td>Twitter for iPhone</td>\n",
       "      <td>0</td>\n",
       "      <td>36</td>\n",
       "      <td>en</td>\n",
       "    </tr>\n",
       "    <tr>\n",
       "      <th>3</th>\n",
       "      <td>@RituG15: #TimesUp #MeTooVoter  #MenToo #Metoo...</td>\n",
       "      <td>1184600000000000000</td>\n",
       "      <td>139</td>\n",
       "      <td>2019-10-16 22:33:00</td>\n",
       "      <td>Twitter for Android</td>\n",
       "      <td>0</td>\n",
       "      <td>7</td>\n",
       "      <td>en</td>\n",
       "    </tr>\n",
       "    <tr>\n",
       "      <th>4</th>\n",
       "      <td>@ambertamblyn: Months before MeToo broke us w...</td>\n",
       "      <td>1184600000000000000</td>\n",
       "      <td>140</td>\n",
       "      <td>2019-10-16 22:33:00</td>\n",
       "      <td>Twitter for iPhone</td>\n",
       "      <td>0</td>\n",
       "      <td>161</td>\n",
       "      <td>en</td>\n",
       "    </tr>\n",
       "    <tr>\n",
       "      <th>...</th>\n",
       "      <td>...</td>\n",
       "      <td>...</td>\n",
       "      <td>...</td>\n",
       "      <td>...</td>\n",
       "      <td>...</td>\n",
       "      <td>...</td>\n",
       "      <td>...</td>\n",
       "      <td>...</td>\n",
       "    </tr>\n",
       "    <tr>\n",
       "      <th>15049</th>\n",
       "      <td>advocate4victim: #DYK: October 15 is the secon...</td>\n",
       "      <td>1184160000000000000</td>\n",
       "      <td>140</td>\n",
       "      <td>2019-10-15 17:46:00</td>\n",
       "      <td>Twitter for Android</td>\n",
       "      <td>0</td>\n",
       "      <td>3</td>\n",
       "      <td>en</td>\n",
       "    </tr>\n",
       "    <tr>\n",
       "      <th>15050</th>\n",
       "      <td>TaranaBurke: Tonight, on the anniversary of #m...</td>\n",
       "      <td>1184160000000000000</td>\n",
       "      <td>140</td>\n",
       "      <td>2019-10-15 17:46:00</td>\n",
       "      <td>Twitter Web App</td>\n",
       "      <td>0</td>\n",
       "      <td>345</td>\n",
       "      <td>en</td>\n",
       "    </tr>\n",
       "    <tr>\n",
       "      <th>15051</th>\n",
       "      <td>Meet Alki David: The self-appointed ambassador...</td>\n",
       "      <td>1184160000000000000</td>\n",
       "      <td>133</td>\n",
       "      <td>2019-10-15 17:46:00</td>\n",
       "      <td>Twitter for iPhone</td>\n",
       "      <td>0</td>\n",
       "      <td>1</td>\n",
       "      <td>en</td>\n",
       "    </tr>\n",
       "    <tr>\n",
       "      <th>15052</th>\n",
       "      <td>IreneWoodbury: 2\\x80\\x9cGreat Read2\\x806will l...</td>\n",
       "      <td>1184160000000000000</td>\n",
       "      <td>140</td>\n",
       "      <td>2019-10-15 17:46:00</td>\n",
       "      <td>Twitter for Android</td>\n",
       "      <td>0</td>\n",
       "      <td>17</td>\n",
       "      <td>en</td>\n",
       "    </tr>\n",
       "    <tr>\n",
       "      <th>15053</th>\n",
       "      <td>manny_ottawa: Canadians don2\\x80\\x99t TRUST Tr...</td>\n",
       "      <td>1184160000000000000</td>\n",
       "      <td>140</td>\n",
       "      <td>2019-10-15 17:46:00</td>\n",
       "      <td>Twitter Web App</td>\n",
       "      <td>0</td>\n",
       "      <td>65</td>\n",
       "      <td>en</td>\n",
       "    </tr>\n",
       "  </tbody>\n",
       "</table>\n",
       "<p>15054 rows × 8 columns</p>\n",
       "</div>"
      ],
      "text/plain": [
       "                                                    Text                   Id  \\\n",
       "0       @Rightsatbirth: \"What he did was manipulative...  1184600000000000000   \n",
       "1      Happy 94th Birthday\\0\\x9f\\x8e\\x82 to @_AngelaL...  1184600000000000000   \n",
       "2       @RepLoriTrahan: Two years ago #MeToo woke up ...  1184600000000000000   \n",
       "3      @RituG15: #TimesUp #MeTooVoter  #MenToo #Metoo...  1184600000000000000   \n",
       "4       @ambertamblyn: Months before MeToo broke us w...  1184600000000000000   \n",
       "...                                                  ...                  ...   \n",
       "15049  advocate4victim: #DYK: October 15 is the secon...  1184160000000000000   \n",
       "15050  TaranaBurke: Tonight, on the anniversary of #m...  1184160000000000000   \n",
       "15051  Meet Alki David: The self-appointed ambassador...  1184160000000000000   \n",
       "15052  IreneWoodbury: 2\\x80\\x9cGreat Read2\\x806will l...  1184160000000000000   \n",
       "15053  manny_ottawa: Canadians don2\\x80\\x99t TRUST Tr...  1184160000000000000   \n",
       "\n",
       "       Lenght          Created_at               Source  Favorite_count  \\\n",
       "0         140 2019-10-16 22:33:00  Twitter for Android               0   \n",
       "1         144 2019-10-16 22:33:00   Twitter for iPhone               0   \n",
       "2         139 2019-10-16 22:33:00   Twitter for iPhone               0   \n",
       "3         139 2019-10-16 22:33:00  Twitter for Android               0   \n",
       "4         140 2019-10-16 22:33:00   Twitter for iPhone               0   \n",
       "...       ...                 ...                  ...             ...   \n",
       "15049     140 2019-10-15 17:46:00  Twitter for Android               0   \n",
       "15050     140 2019-10-15 17:46:00      Twitter Web App               0   \n",
       "15051     133 2019-10-15 17:46:00   Twitter for iPhone               0   \n",
       "15052     140 2019-10-15 17:46:00  Twitter for Android               0   \n",
       "15053     140 2019-10-15 17:46:00      Twitter Web App               0   \n",
       "\n",
       "       Retweet_count Lang  \n",
       "0                  2   en  \n",
       "1                  0   en  \n",
       "2                 36   en  \n",
       "3                  7   en  \n",
       "4                161   en  \n",
       "...              ...  ...  \n",
       "15049              3   en  \n",
       "15050            345   en  \n",
       "15051              1   en  \n",
       "15052             17   en  \n",
       "15053             65   en  \n",
       "\n",
       "[15054 rows x 8 columns]"
      ]
     },
     "execution_count": 13,
     "metadata": {},
     "output_type": "execute_result"
    }
   ],
   "source": [
    "pd.read_excel('MeToo_tweets.xlsx')"
   ]
  },
  {
   "cell_type": "code",
   "execution_count": null,
   "id": "bba1a3a8",
   "metadata": {},
   "outputs": [],
   "source": []
  },
  {
   "cell_type": "code",
   "execution_count": null,
   "id": "d6bfeb70",
   "metadata": {},
   "outputs": [],
   "source": []
  },
  {
   "cell_type": "code",
   "execution_count": null,
   "id": "807d50ee",
   "metadata": {},
   "outputs": [],
   "source": []
  },
  {
   "cell_type": "code",
   "execution_count": null,
   "id": "6cb14455",
   "metadata": {},
   "outputs": [],
   "source": []
  },
  {
   "cell_type": "code",
   "execution_count": null,
   "id": "bc20296b",
   "metadata": {},
   "outputs": [],
   "source": []
  },
  {
   "cell_type": "code",
   "execution_count": null,
   "id": "3a517e2c",
   "metadata": {},
   "outputs": [],
   "source": []
  },
  {
   "cell_type": "code",
   "execution_count": null,
   "id": "266bbb5c",
   "metadata": {},
   "outputs": [],
   "source": []
  },
  {
   "cell_type": "code",
   "execution_count": null,
   "id": "0de4804a",
   "metadata": {},
   "outputs": [],
   "source": []
  },
  {
   "cell_type": "code",
   "execution_count": null,
   "id": "142729d2",
   "metadata": {},
   "outputs": [],
   "source": []
  },
  {
   "cell_type": "code",
   "execution_count": null,
   "id": "ba8ab8af",
   "metadata": {},
   "outputs": [],
   "source": []
  },
  {
   "cell_type": "code",
   "execution_count": null,
   "id": "91358345",
   "metadata": {},
   "outputs": [],
   "source": []
  },
  {
   "cell_type": "code",
   "execution_count": null,
   "id": "22f373a3",
   "metadata": {},
   "outputs": [],
   "source": []
  },
  {
   "cell_type": "code",
   "execution_count": null,
   "id": "d2eb2c87",
   "metadata": {},
   "outputs": [],
   "source": []
  },
  {
   "cell_type": "code",
   "execution_count": null,
   "id": "d73219f8",
   "metadata": {},
   "outputs": [],
   "source": []
  },
  {
   "cell_type": "code",
   "execution_count": null,
   "id": "9415a7a4",
   "metadata": {},
   "outputs": [],
   "source": []
  },
  {
   "cell_type": "code",
   "execution_count": null,
   "id": "9414389f",
   "metadata": {},
   "outputs": [],
   "source": []
  },
  {
   "cell_type": "code",
   "execution_count": null,
   "id": "0df8c257",
   "metadata": {},
   "outputs": [],
   "source": []
  },
  {
   "cell_type": "code",
   "execution_count": null,
   "id": "753dfd32",
   "metadata": {},
   "outputs": [],
   "source": []
  },
  {
   "cell_type": "code",
   "execution_count": null,
   "id": "ecd048ed",
   "metadata": {},
   "outputs": [],
   "source": []
  },
  {
   "cell_type": "code",
   "execution_count": null,
   "id": "0f739832",
   "metadata": {},
   "outputs": [],
   "source": []
  },
  {
   "cell_type": "code",
   "execution_count": null,
   "id": "8b71542d",
   "metadata": {},
   "outputs": [],
   "source": []
  },
  {
   "cell_type": "code",
   "execution_count": null,
   "id": "6a32062d",
   "metadata": {},
   "outputs": [],
   "source": []
  },
  {
   "cell_type": "code",
   "execution_count": null,
   "id": "c91b9db7",
   "metadata": {},
   "outputs": [],
   "source": []
  },
  {
   "cell_type": "code",
   "execution_count": null,
   "id": "d755ce9a",
   "metadata": {},
   "outputs": [],
   "source": []
  },
  {
   "cell_type": "code",
   "execution_count": null,
   "id": "2d7d71f9",
   "metadata": {},
   "outputs": [],
   "source": []
  },
  {
   "cell_type": "code",
   "execution_count": null,
   "id": "1ed1b525",
   "metadata": {},
   "outputs": [],
   "source": []
  },
  {
   "cell_type": "code",
   "execution_count": null,
   "id": "68701ec2",
   "metadata": {},
   "outputs": [],
   "source": []
  },
  {
   "cell_type": "code",
   "execution_count": null,
   "id": "3bc65f68",
   "metadata": {},
   "outputs": [],
   "source": []
  },
  {
   "cell_type": "code",
   "execution_count": null,
   "id": "3a1f682e",
   "metadata": {},
   "outputs": [],
   "source": []
  },
  {
   "cell_type": "code",
   "execution_count": null,
   "id": "bca53b3c",
   "metadata": {},
   "outputs": [],
   "source": []
  },
  {
   "cell_type": "code",
   "execution_count": null,
   "id": "60447114",
   "metadata": {},
   "outputs": [],
   "source": []
  },
  {
   "cell_type": "code",
   "execution_count": null,
   "id": "69ed7b4e",
   "metadata": {},
   "outputs": [],
   "source": []
  },
  {
   "cell_type": "code",
   "execution_count": null,
   "id": "e7219fd0",
   "metadata": {},
   "outputs": [],
   "source": []
  },
  {
   "cell_type": "code",
   "execution_count": null,
   "id": "f16aa960",
   "metadata": {},
   "outputs": [],
   "source": []
  },
  {
   "cell_type": "code",
   "execution_count": null,
   "id": "69c0e2bd",
   "metadata": {},
   "outputs": [],
   "source": []
  },
  {
   "cell_type": "code",
   "execution_count": null,
   "id": "5fad5d0f",
   "metadata": {},
   "outputs": [],
   "source": []
  },
  {
   "cell_type": "code",
   "execution_count": null,
   "id": "1a4492c4",
   "metadata": {},
   "outputs": [],
   "source": []
  },
  {
   "cell_type": "code",
   "execution_count": null,
   "id": "87747829",
   "metadata": {},
   "outputs": [],
   "source": []
  },
  {
   "cell_type": "code",
   "execution_count": null,
   "id": "cc8c0ef3",
   "metadata": {},
   "outputs": [],
   "source": []
  },
  {
   "cell_type": "code",
   "execution_count": null,
   "id": "73814a0c",
   "metadata": {},
   "outputs": [],
   "source": []
  },
  {
   "cell_type": "code",
   "execution_count": null,
   "id": "cbc34b81",
   "metadata": {},
   "outputs": [],
   "source": []
  },
  {
   "cell_type": "code",
   "execution_count": null,
   "id": "93a45049",
   "metadata": {},
   "outputs": [],
   "source": []
  },
  {
   "cell_type": "code",
   "execution_count": null,
   "id": "9c328acc",
   "metadata": {},
   "outputs": [],
   "source": []
  },
  {
   "cell_type": "code",
   "execution_count": null,
   "id": "90477e28",
   "metadata": {},
   "outputs": [],
   "source": []
  },
  {
   "cell_type": "code",
   "execution_count": null,
   "id": "0e2ec04d",
   "metadata": {},
   "outputs": [],
   "source": []
  },
  {
   "cell_type": "code",
   "execution_count": null,
   "id": "c10daf23",
   "metadata": {},
   "outputs": [],
   "source": []
  },
  {
   "cell_type": "code",
   "execution_count": null,
   "id": "44ed9b50",
   "metadata": {},
   "outputs": [],
   "source": []
  },
  {
   "cell_type": "code",
   "execution_count": null,
   "id": "83939ad9",
   "metadata": {},
   "outputs": [],
   "source": []
  },
  {
   "cell_type": "code",
   "execution_count": null,
   "id": "4da20405",
   "metadata": {},
   "outputs": [],
   "source": []
  },
  {
   "cell_type": "code",
   "execution_count": null,
   "id": "a171f385",
   "metadata": {},
   "outputs": [],
   "source": []
  },
  {
   "cell_type": "code",
   "execution_count": null,
   "id": "c55a727d",
   "metadata": {},
   "outputs": [],
   "source": []
  },
  {
   "cell_type": "code",
   "execution_count": null,
   "id": "08fe18c4",
   "metadata": {},
   "outputs": [],
   "source": []
  },
  {
   "cell_type": "code",
   "execution_count": null,
   "id": "15618ce1",
   "metadata": {},
   "outputs": [],
   "source": []
  },
  {
   "cell_type": "code",
   "execution_count": null,
   "id": "c4a6d323",
   "metadata": {},
   "outputs": [],
   "source": []
  },
  {
   "cell_type": "code",
   "execution_count": null,
   "id": "e27286d3",
   "metadata": {},
   "outputs": [],
   "source": []
  },
  {
   "cell_type": "code",
   "execution_count": null,
   "id": "ff08528b",
   "metadata": {},
   "outputs": [],
   "source": []
  },
  {
   "cell_type": "code",
   "execution_count": null,
   "id": "3649570d",
   "metadata": {},
   "outputs": [],
   "source": []
  },
  {
   "cell_type": "code",
   "execution_count": null,
   "id": "4c17beeb",
   "metadata": {},
   "outputs": [],
   "source": []
  },
  {
   "cell_type": "code",
   "execution_count": null,
   "id": "51d6a711",
   "metadata": {},
   "outputs": [],
   "source": []
  },
  {
   "cell_type": "code",
   "execution_count": null,
   "id": "14ac4989",
   "metadata": {},
   "outputs": [],
   "source": []
  },
  {
   "cell_type": "code",
   "execution_count": null,
   "id": "6715e21c",
   "metadata": {},
   "outputs": [],
   "source": []
  },
  {
   "cell_type": "code",
   "execution_count": null,
   "id": "374bdea7",
   "metadata": {},
   "outputs": [],
   "source": []
  },
  {
   "cell_type": "code",
   "execution_count": null,
   "id": "255654e6",
   "metadata": {},
   "outputs": [],
   "source": []
  },
  {
   "cell_type": "code",
   "execution_count": null,
   "id": "f7548c16",
   "metadata": {},
   "outputs": [],
   "source": []
  },
  {
   "cell_type": "code",
   "execution_count": null,
   "id": "18e919d8",
   "metadata": {},
   "outputs": [],
   "source": []
  },
  {
   "cell_type": "code",
   "execution_count": null,
   "id": "81afc0b8",
   "metadata": {},
   "outputs": [],
   "source": []
  },
  {
   "cell_type": "code",
   "execution_count": null,
   "id": "59951195",
   "metadata": {},
   "outputs": [],
   "source": []
  },
  {
   "cell_type": "code",
   "execution_count": null,
   "id": "13f697f6",
   "metadata": {},
   "outputs": [],
   "source": []
  },
  {
   "cell_type": "code",
   "execution_count": null,
   "id": "97243724",
   "metadata": {},
   "outputs": [],
   "source": []
  },
  {
   "cell_type": "code",
   "execution_count": null,
   "id": "ee5a71bd",
   "metadata": {},
   "outputs": [],
   "source": []
  },
  {
   "cell_type": "code",
   "execution_count": null,
   "id": "2633f1d2",
   "metadata": {},
   "outputs": [],
   "source": []
  },
  {
   "cell_type": "code",
   "execution_count": null,
   "id": "e17b4973",
   "metadata": {},
   "outputs": [],
   "source": []
  },
  {
   "cell_type": "code",
   "execution_count": null,
   "id": "08798971",
   "metadata": {},
   "outputs": [],
   "source": []
  },
  {
   "cell_type": "code",
   "execution_count": null,
   "id": "d15c187b",
   "metadata": {},
   "outputs": [],
   "source": []
  },
  {
   "cell_type": "code",
   "execution_count": null,
   "id": "30548307",
   "metadata": {},
   "outputs": [],
   "source": []
  },
  {
   "cell_type": "code",
   "execution_count": null,
   "id": "64445262",
   "metadata": {},
   "outputs": [],
   "source": []
  },
  {
   "cell_type": "code",
   "execution_count": null,
   "id": "39068741",
   "metadata": {},
   "outputs": [],
   "source": []
  },
  {
   "cell_type": "code",
   "execution_count": null,
   "id": "cad60845",
   "metadata": {},
   "outputs": [],
   "source": []
  },
  {
   "cell_type": "code",
   "execution_count": null,
   "id": "5ffd4af9",
   "metadata": {},
   "outputs": [],
   "source": []
  },
  {
   "cell_type": "code",
   "execution_count": null,
   "id": "e414d7a5",
   "metadata": {},
   "outputs": [],
   "source": []
  },
  {
   "cell_type": "code",
   "execution_count": null,
   "id": "4f6362be",
   "metadata": {},
   "outputs": [],
   "source": []
  },
  {
   "cell_type": "code",
   "execution_count": null,
   "id": "afade010",
   "metadata": {},
   "outputs": [],
   "source": []
  },
  {
   "cell_type": "code",
   "execution_count": null,
   "id": "0d5ac6ae",
   "metadata": {},
   "outputs": [],
   "source": []
  },
  {
   "cell_type": "code",
   "execution_count": null,
   "id": "a8863a76",
   "metadata": {},
   "outputs": [],
   "source": []
  },
  {
   "cell_type": "code",
   "execution_count": null,
   "id": "919e4432",
   "metadata": {},
   "outputs": [],
   "source": []
  },
  {
   "cell_type": "code",
   "execution_count": null,
   "id": "a9df0a6d",
   "metadata": {},
   "outputs": [],
   "source": []
  },
  {
   "cell_type": "code",
   "execution_count": null,
   "id": "1f0d0762",
   "metadata": {},
   "outputs": [],
   "source": []
  },
  {
   "cell_type": "code",
   "execution_count": null,
   "id": "63813f90",
   "metadata": {},
   "outputs": [],
   "source": []
  },
  {
   "cell_type": "code",
   "execution_count": null,
   "id": "be6375ec",
   "metadata": {},
   "outputs": [],
   "source": []
  },
  {
   "cell_type": "code",
   "execution_count": null,
   "id": "3890e9ca",
   "metadata": {},
   "outputs": [],
   "source": []
  },
  {
   "cell_type": "code",
   "execution_count": null,
   "id": "b7c8b82e",
   "metadata": {},
   "outputs": [],
   "source": []
  },
  {
   "cell_type": "code",
   "execution_count": null,
   "id": "7a33916f",
   "metadata": {},
   "outputs": [],
   "source": []
  },
  {
   "cell_type": "code",
   "execution_count": null,
   "id": "856da141",
   "metadata": {},
   "outputs": [],
   "source": []
  },
  {
   "cell_type": "code",
   "execution_count": null,
   "id": "534b0056",
   "metadata": {},
   "outputs": [],
   "source": []
  },
  {
   "cell_type": "code",
   "execution_count": null,
   "id": "306cc311",
   "metadata": {},
   "outputs": [],
   "source": []
  },
  {
   "cell_type": "code",
   "execution_count": null,
   "id": "e11409d2",
   "metadata": {},
   "outputs": [],
   "source": []
  },
  {
   "cell_type": "code",
   "execution_count": null,
   "id": "f23cfbd8",
   "metadata": {},
   "outputs": [],
   "source": []
  },
  {
   "cell_type": "code",
   "execution_count": null,
   "id": "f0598fb4",
   "metadata": {},
   "outputs": [],
   "source": []
  },
  {
   "cell_type": "code",
   "execution_count": null,
   "id": "58d5a917",
   "metadata": {},
   "outputs": [],
   "source": []
  },
  {
   "cell_type": "code",
   "execution_count": null,
   "id": "2adfc2f6",
   "metadata": {},
   "outputs": [],
   "source": []
  },
  {
   "cell_type": "code",
   "execution_count": null,
   "id": "e30000f1",
   "metadata": {},
   "outputs": [],
   "source": []
  },
  {
   "cell_type": "code",
   "execution_count": null,
   "id": "096bc341",
   "metadata": {},
   "outputs": [],
   "source": []
  },
  {
   "cell_type": "code",
   "execution_count": null,
   "id": "939dfbfa",
   "metadata": {},
   "outputs": [],
   "source": []
  },
  {
   "cell_type": "code",
   "execution_count": null,
   "id": "d9cb3c44",
   "metadata": {},
   "outputs": [],
   "source": []
  }
 ],
 "metadata": {
  "kernelspec": {
   "display_name": "Python 3",
   "language": "python",
   "name": "python3"
  },
  "language_info": {
   "codemirror_mode": {
    "name": "ipython",
    "version": 3
   },
   "file_extension": ".py",
   "mimetype": "text/x-python",
   "name": "python",
   "nbconvert_exporter": "python",
   "pygments_lexer": "ipython3",
   "version": "3.8.8"
  }
 },
 "nbformat": 4,
 "nbformat_minor": 5
}
